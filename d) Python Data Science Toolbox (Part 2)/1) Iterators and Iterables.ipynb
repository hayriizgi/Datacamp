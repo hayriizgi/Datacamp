{
 "cells": [
  {
   "cell_type": "markdown",
   "metadata": {},
   "source": [
    "# Iterators"
   ]
  },
  {
   "cell_type": "markdown",
   "metadata": {},
   "source": [
    "## Iterating with a for loop"
   ]
  },
  {
   "cell_type": "markdown",
   "metadata": {},
   "source": [
    "- We can iterate over a list using a for loop:"
   ]
  },
  {
   "cell_type": "code",
   "execution_count": 4,
   "metadata": {},
   "outputs": [
    {
     "name": "stdout",
     "output_type": "stream",
     "text": [
      "Nick\n",
      "Lore\n",
      "Hugo\n"
     ]
    }
   ],
   "source": [
    "employees = ['Nick', 'Lore', 'Hugo']\n",
    "\n",
    "for employee in employees:\n",
    "    print(employee)"
   ]
  },
  {
   "cell_type": "markdown",
   "metadata": {},
   "source": [
    "- We can iterate over a string using a for loop:"
   ]
  },
  {
   "cell_type": "code",
   "execution_count": 6,
   "metadata": {},
   "outputs": [
    {
     "name": "stdout",
     "output_type": "stream",
     "text": [
      "D\n",
      "a\n",
      "t\n",
      "a\n",
      "C\n",
      "a\n",
      "m\n",
      "p\n"
     ]
    }
   ],
   "source": [
    "for letter in 'DataCamp':\n",
    "        print(letter)"
   ]
  },
  {
   "cell_type": "markdown",
   "metadata": {},
   "source": [
    "- We can iterate over a range object using a for loop"
   ]
  },
  {
   "cell_type": "code",
   "execution_count": 7,
   "metadata": {},
   "outputs": [
    {
     "name": "stdout",
     "output_type": "stream",
     "text": [
      "0\n",
      "1\n",
      "2\n",
      "3\n"
     ]
    }
   ],
   "source": [
    "for i in range(4):\n",
    "    print(i)"
   ]
  },
  {
   "cell_type": "markdown",
   "metadata": {},
   "source": [
    "## Iterators vs. iterables\n",
    "\n",
    "- Iterable\n",
    " - Examples: lists, strings, dictionaries, file connections\n",
    " - An object with an associated <b>iter( )</b> method\n",
    " - Applying iter() to an iterable creates an iterator\n",
    "- Iterator\n",
    " - Produces next value with <b>next( )</b>\n",
    "- Summary: An iterable is an object that can return an iterator, while an iterator is an object that keeps state and produces the next value when you call next() on it."
   ]
  },
  {
   "cell_type": "markdown",
   "metadata": {},
   "source": [
    "### Iterating over iterables: next()"
   ]
  },
  {
   "cell_type": "code",
   "execution_count": 1,
   "metadata": {},
   "outputs": [
    {
     "name": "stdout",
     "output_type": "stream",
     "text": [
      "<str_iterator object at 0x000002B992CFC7C8>\n"
     ]
    }
   ],
   "source": [
    "word = 'Da' # Iterable\n",
    "\n",
    "it = iter(word) # Iterator\n",
    "\n",
    "print(it) "
   ]
  },
  {
   "cell_type": "code",
   "execution_count": 2,
   "metadata": {},
   "outputs": [
    {
     "name": "stdout",
     "output_type": "stream",
     "text": [
      "Da\n"
     ]
    }
   ],
   "source": [
    "print(word) # Iterable"
   ]
  },
  {
   "cell_type": "code",
   "execution_count": 3,
   "metadata": {},
   "outputs": [
    {
     "data": {
      "text/plain": [
       "'D'"
      ]
     },
     "execution_count": 3,
     "metadata": {},
     "output_type": "execute_result"
    }
   ],
   "source": [
    "next(it)"
   ]
  },
  {
   "cell_type": "code",
   "execution_count": 4,
   "metadata": {},
   "outputs": [
    {
     "data": {
      "text/plain": [
       "'a'"
      ]
     },
     "execution_count": 4,
     "metadata": {},
     "output_type": "execute_result"
    }
   ],
   "source": [
    "next(it)"
   ]
  },
  {
   "cell_type": "code",
   "execution_count": 5,
   "metadata": {},
   "outputs": [
    {
     "ename": "StopIteration",
     "evalue": "",
     "output_type": "error",
     "traceback": [
      "\u001b[1;31m---------------------------------------------------------------------------\u001b[0m",
      "\u001b[1;31mStopIteration\u001b[0m                             Traceback (most recent call last)",
      "\u001b[1;32m<ipython-input-5-bc1ab118995a>\u001b[0m in \u001b[0;36m<module>\u001b[1;34m\u001b[0m\n\u001b[1;32m----> 1\u001b[1;33m \u001b[0mnext\u001b[0m\u001b[1;33m(\u001b[0m\u001b[0mit\u001b[0m\u001b[1;33m)\u001b[0m\u001b[1;33m\u001b[0m\u001b[1;33m\u001b[0m\u001b[0m\n\u001b[0m",
      "\u001b[1;31mStopIteration\u001b[0m: "
     ]
    }
   ],
   "source": [
    "next(it)"
   ]
  },
  {
   "cell_type": "code",
   "execution_count": 12,
   "metadata": {},
   "outputs": [
    {
     "name": "stdout",
     "output_type": "stream",
     "text": [
      "D a\n",
      "<str_iterator object at 0x000002B994DB0488>\n",
      "D a\n",
      "Da\n"
     ]
    }
   ],
   "source": [
    "word = 'Da'\n",
    "\n",
    "it = iter(word)\n",
    "\n",
    "print(*it) \n",
    "print(it)\n",
    "print(*word) \n",
    "print(word) "
   ]
  },
  {
   "cell_type": "markdown",
   "metadata": {},
   "source": [
    "#### Example 1: "
   ]
  },
  {
   "cell_type": "code",
   "execution_count": 51,
   "metadata": {},
   "outputs": [
    {
     "name": "stdout",
     "output_type": "stream",
     "text": [
      "jay garrick\n",
      "barry allen\n",
      "wally west\n",
      "bart allen\n",
      "\n",
      "\n",
      "jay garrick\n",
      "barry allen\n",
      "wally west\n",
      "bart allen\n"
     ]
    }
   ],
   "source": [
    "# Create a list of strings: flash\n",
    "flash = ['jay garrick', 'barry allen', 'wally west', 'bart allen']\n",
    "\n",
    "# Print each list item in flash using a for loop\n",
    "for i in flash:\n",
    "    print (i)\n",
    "\n",
    "\n",
    "# Create an iterator for flash: superspeed\n",
    "superspeed = iter(flash)\n",
    "print('\\n')\n",
    "# Print each item from the iterator\n",
    "print(next(superspeed))\n",
    "print(next(superspeed))\n",
    "print(next(superspeed))\n",
    "print(next(superspeed))"
   ]
  },
  {
   "cell_type": "markdown",
   "metadata": {},
   "source": [
    "#### Example 2:\n",
    "range() doesn't actually create the list; instead, it creates a range object with an iterator that produces the values until it reaches the limit.\n",
    "\n",
    "Create an iterator for range(10 ** 100): googol"
   ]
  },
  {
   "cell_type": "code",
   "execution_count": 13,
   "metadata": {},
   "outputs": [
    {
     "name": "stdout",
     "output_type": "stream",
     "text": [
      "0\n",
      "1\n",
      "2\n",
      "\n",
      "\n",
      "0\n",
      "1\n",
      "2\n",
      "\n",
      "\n",
      "0\n",
      "1\n",
      "2\n",
      "3\n",
      "4\n"
     ]
    }
   ],
   "source": [
    "\n",
    "# Create an iterator for range(3): small_value\n",
    "small_value = iter(range(3))\n",
    "\n",
    "# Print the values in small_value\n",
    "print(next(small_value))\n",
    "print(next(small_value))\n",
    "print(next(small_value))\n",
    "print('\\n')\n",
    "# Loop over range(3) and print the values\n",
    "for i in range(3):\n",
    "    print(i)\n",
    "\n",
    "print('\\n')\n",
    "# Create an iterator for range(10 ** 100): googol\n",
    "googol = iter(range(10 ** 100))\n",
    "\n",
    "# Print the first 5 values from googol # Python 3 won't throw an error\n",
    "print(next(googol))\n",
    "print(next(googol))\n",
    "print(next(googol))\n",
    "print(next(googol))\n",
    "print(next(googol))\n"
   ]
  },
  {
   "cell_type": "markdown",
   "metadata": {},
   "source": [
    "#### Example 3:"
   ]
  },
  {
   "cell_type": "code",
   "execution_count": 14,
   "metadata": {},
   "outputs": [
    {
     "name": "stdout",
     "output_type": "stream",
     "text": [
      "range(10, 21)\n",
      "[10, 11, 12, 13, 14, 15, 16, 17, 18, 19, 20]\n",
      "165\n"
     ]
    }
   ],
   "source": [
    "# Create a range object: values\n",
    "values = range(10,21)\n",
    "\n",
    "# Print the range object\n",
    "print(values)\n",
    "\n",
    "# Create a list of integers: values_list\n",
    "values_list = list(values)\n",
    "\n",
    "# Print values_list\n",
    "print(values_list)\n",
    "\n",
    "# Get the sum of values: values_sum\n",
    "values_sum = sum(iter(values))\n",
    "\n",
    "# Print values_sum\n",
    "print(values_sum)"
   ]
  },
  {
   "cell_type": "markdown",
   "metadata": {},
   "source": [
    "### Iterating at once with * - Splat/unpack operator"
   ]
  },
  {
   "cell_type": "code",
   "execution_count": 46,
   "metadata": {},
   "outputs": [
    {
     "ename": "SyntaxError",
     "evalue": "invalid syntax (<ipython-input-46-c077c1d1584c>, line 5)",
     "output_type": "error",
     "traceback": [
      "\u001b[1;36m  File \u001b[1;32m\"<ipython-input-46-c077c1d1584c>\"\u001b[1;36m, line \u001b[1;32m5\u001b[0m\n\u001b[1;33m    print(*it) # The single star * unpacks the sequence/collection into positional arguments\u001b[0m\n\u001b[1;37m          ^\u001b[0m\n\u001b[1;31mSyntaxError\u001b[0m\u001b[1;31m:\u001b[0m invalid syntax\n"
     ]
    }
   ],
   "source": [
    "word = 'Data'\n",
    "\n",
    "it = iter(word)\n",
    "\n",
    "print(*it) # The single star * unpacks the sequence/collection into positional arguments\n",
    "# Not allowing unpacking in Python 2.x has noted and fixed in Python 3.5"
   ]
  },
  {
   "cell_type": "code",
   "execution_count": 27,
   "metadata": {},
   "outputs": [
    {
     "name": "stdout",
     "output_type": "stream",
     "text": [
      "3\n"
     ]
    }
   ],
   "source": [
    "# Example: Unpacking with *\n",
    "def sum(a, b):\n",
    "    return a + b\n",
    "\n",
    "values = (1, 2)\n",
    "\n",
    "s = sum(*values)\n",
    "\n",
    "print(s)"
   ]
  },
  {
   "cell_type": "code",
   "execution_count": 32,
   "metadata": {},
   "outputs": [
    {
     "name": "stdout",
     "output_type": "stream",
     "text": [
      "28\n"
     ]
    }
   ],
   "source": [
    "# Example: Unpacking with ** (dictionary)\n",
    "# The double star ** does the same, only using a dictionary and thus named arguments:\n",
    "\n",
    "def sum(a, b, c, d):\n",
    "    return a + b + c + d\n",
    "\n",
    "values1 = (1, 2)\n",
    "values2 = { 'c': 10, 'd': 15 }\n",
    "\n",
    "s = sum(*values1, **values2)\n",
    "\n",
    "print(s)"
   ]
  },
  {
   "cell_type": "markdown",
   "metadata": {},
   "source": [
    "### Iterating over dictionaries"
   ]
  },
  {
   "cell_type": "code",
   "execution_count": 35,
   "metadata": {},
   "outputs": [
    {
     "name": "stdout",
     "output_type": "stream",
     "text": [
      "('hugo', 'bowne-anderson')\n",
      "('francis', 'castro')\n"
     ]
    }
   ],
   "source": [
    "pythonistas = {'hugo': 'bowne-anderson', 'francis':'castro'}\n",
    "\n",
    "for key, value in pythonistas.items():\n",
    "    print(key, value)\n"
   ]
  },
  {
   "cell_type": "markdown",
   "metadata": {},
   "source": [
    "### Iterating over file connections"
   ]
  },
  {
   "cell_type": "code",
   "execution_count": 38,
   "metadata": {},
   "outputs": [
    {
     "name": "stdout",
     "output_type": "stream",
     "text": [
      "contributors,coordinates,created_at,entities,extended_entities,favorite_count,favorited,filter_level,geo,id,id_str,in_reply_to_screen_name,in_reply_to_status_id,in_reply_to_status_id_str,in_reply_to_user_id,in_reply_to_user_id_str,is_quote_status,lang,place,possibly_sensitive,quoted_status,quoted_status_id,quoted_status_id_str,retweet_count,retweeted,retweeted_status,source,text,timestamp_ms,truncated,user\n",
      "\n"
     ]
    }
   ],
   "source": [
    "file = open('datasets/tweets.csv')\n",
    "\n",
    "it = iter(file)\n",
    "\n",
    "print(next(it)) # Prints first line"
   ]
  },
  {
   "cell_type": "code",
   "execution_count": 39,
   "metadata": {},
   "outputs": [
    {
     "name": "stdout",
     "output_type": "stream",
     "text": [
      ",,Tue Mar 29 23:40:17 +0000 2016,\"{'hashtags': [], 'user_mentions': [{'screen_name': 'bpolitics', 'name': 'Bloomberg Politics', 'id': 564111558, 'id_str': '564111558', 'indices': [3, 13]}, {'screen_name': 'krollbondrating', 'name': 'Kroll Bond Ratings', 'id': 1963523857, 'id_str': '1963523857', 'indices': [16, 32]}], 'symbols': [], 'media': [{'sizes': {'large': {'w': 1024, 'h': 691, 'resize': 'fit'}, 'medium': {'w': 600, 'h': 405, 'resize': 'fit'}, 'small': {'w': 340, 'h': 229, 'resize': 'fit'}, 'thumb': {'w': 150, 'h': 150, 'resize': 'crop'}}, 'expanded_url': 'http://twitter.com/bpolitics/status/714950482930896897/photo/1', 'url': 'https://t.co/lJcw0N8EZf', 'media_url_https': 'https://pbs.twimg.com/media/CewDrPtWAAMerOm.jpg', 'source_user_id': 564111558, 'media_url': 'http://pbs.twimg.com/media/CewDrPtWAAMerOm.jpg', 'type': 'photo', 'indices': [139, 140], 'source_status_id': 714950482930896897, 'id_str': '714950482331041795', 'source_user_id_str': '564111558', 'id': 714950482331041795, 'display_url': 'pic.twitter.com/lJcw0N8EZf', 'source_status_id_str': '714950482930896897'}], 'urls': [{'expanded_url': 'http://bloom.bg/1RETAha', 'url': 'https://t.co/pLk7rvoRSn', 'display_url': 'bloom.bg/1RETAha', 'indices': [108, 131]}]}\",\"{'media': [{'sizes': {'large': {'w': 1024, 'h': 691, 'resize': 'fit'}, 'medium': {'w': 600, 'h': 405, 'resize': 'fit'}, 'small': {'w': 340, 'h': 229, 'resize': 'fit'}, 'thumb': {'w': 150, 'h': 150, 'resize': 'crop'}}, 'expanded_url': 'http://twitter.com/bpolitics/status/714950482930896897/photo/1', 'url': 'https://t.co/lJcw0N8EZf', 'media_url_https': 'https://pbs.twimg.com/media/CewDrPtWAAMerOm.jpg', 'source_user_id': 564111558, 'media_url': 'http://pbs.twimg.com/media/CewDrPtWAAMerOm.jpg', 'type': 'photo', 'indices': [139, 140], 'source_status_id': 714950482930896897, 'id_str': '714950482331041795', 'source_user_id_str': '564111558', 'id': 714950482331041795, 'display_url': 'pic.twitter.com/lJcw0N8EZf', 'source_status_id_str': '714950482930896897'}]}\",0,False,low,,714960401759387648,714960401759387648,,,,,,False,en,,False,,,,0,False,\"{'retweeted': False, 'text': \"\".@krollbondrating's Christopher Whalen says Clinton is the weakest Dem candidate in 50 years https://t.co/pLk7rvoRSn https://t.co/lJcw0N8EZf\"\", 'in_reply_to_status_id': None, 'favorite_count': 40, 'in_reply_to_user_id_str': None, 'geo': None, 'is_quote_status': False, 'source': '<a href=\"\"http://www.hootsuite.com\"\" rel=\"\"nofollow\"\">Hootsuite</a>', 'in_reply_to_user_id': None, 'user': {'utc_offset': -14400, 'profile_image_url_https': 'https://pbs.twimg.com/profile_images/714804098890133504/cUO4gD1A_normal.jpg', 'time_zone': 'Eastern Time (US & Canada)', 'contributors_enabled': False, 'url': 'http://www.bloombergpolitics.com', 'id_str': '564111558', 'profile_sidebar_fill_color': 'DDEEF6', 'is_translator': False, 'friends_count': 539, 'default_profile_image': False, 'follow_request_sent': None, 'following': None, 'name': 'Bloomberg Politics', 'profile_use_background_image': True, 'profile_background_image_url': 'http://pbs.twimg.com/profile_background_images/540884395/Bloomberg_twback_orng.jpg', 'screen_name': 'bpolitics', 'profile_sidebar_border_color': 'C0DEED', 'profile_link_color': '0084B4', 'profile_background_tile': False, 'profile_image_url': 'http://pbs.twimg.com/profile_images/714804098890133504/cUO4gD1A_normal.jpg', 'favourites_count': 114, 'location': None, 'geo_enabled': False, 'description': 'Bloomberg Politics is the spot for smart, non-partisan political coverage + analysis. #WADR with @jheil and @MarkHalperin airs at 5pm ET on @BloombergTV.', 'lang': 'en', 'profile_text_color': '333333', 'default_profile': False, 'profile_banner_url': 'https://pbs.twimg.com/profile_banners/564111558/1449075077', 'followers_count': 52842, 'listed_count': 1788, 'verified': True, 'protected': False, 'notifications': None, 'profile_background_color': 'C0DEED', 'profile_background_image_url_https': 'https://pbs.twimg.com/profile_background_images/540884395/Bloomberg_twback_orng.jpg', 'created_at': 'Thu Apr 26 20:50:01 +0000 2012', 'id': 564111558, 'statuses_count': 36188}, 'contributors': None, 'possibly_sensitive': False, 'extended_entities': {'media': [{'sizes': {'large': {'w': 1024, 'h': 691, 'resize': 'fit'}, 'medium': {'w': 600, 'h': 405, 'resize': 'fit'}, 'small': {'w': 340, 'h': 229, 'resize': 'fit'}, 'thumb': {'w': 150, 'h': 150, 'resize': 'crop'}}, 'expanded_url': 'http://twitter.com/bpolitics/status/714950482930896897/photo/1', 'url': 'https://t.co/lJcw0N8EZf', 'id_str': '714950482331041795', 'indices': [117, 140], 'media_url_https': 'https://pbs.twimg.com/media/CewDrPtWAAMerOm.jpg', 'media_url': 'http://pbs.twimg.com/media/CewDrPtWAAMerOm.jpg', 'type': 'photo', 'id': 714950482331041795, 'display_url': 'pic.twitter.com/lJcw0N8EZf'}]}, 'lang': 'en', 'entities': {'hashtags': [], 'user_mentions': [{'screen_name': 'krollbondrating', 'name': 'Kroll Bond Ratings', 'id': 1963523857, 'id_str': '1963523857', 'indices': [1, 17]}], 'symbols': [], 'media': [{'sizes': {'large': {'w': 1024, 'h': 691, 'resize': 'fit'}, 'medium': {'w': 600, 'h': 405, 'resize': 'fit'}, 'small': {'w': 340, 'h': 229, 'resize': 'fit'}, 'thumb': {'w': 150, 'h': 150, 'resize': 'crop'}}, 'expanded_url': 'http://twitter.com/bpolitics/status/714950482930896897/photo/1', 'url': 'https://t.co/lJcw0N8EZf', 'id_str': '714950482331041795', 'indices': [117, 140], 'media_url_https': 'https://pbs.twimg.com/media/CewDrPtWAAMerOm.jpg', 'media_url': 'http://pbs.twimg.com/media/CewDrPtWAAMerOm.jpg', 'type': 'photo', 'id': 714950482331041795, 'display_url': 'pic.twitter.com/lJcw0N8EZf'}], 'urls': [{'expanded_url': 'http://bloom.bg/1RETAha', 'url': 'https://t.co/pLk7rvoRSn', 'display_url': 'bloom.bg/1RETAha', 'indices': [93, 116]}]}, 'favorited': False, 'coordinates': None, 'created_at': 'Tue Mar 29 23:00:52 +0000 2016', 'filter_level': 'low', 'id_str': '714950482930896897', 'place': None, 'id': 714950482930896897, 'truncated': False, 'retweet_count': 31, 'in_reply_to_status_id_str': None, 'in_reply_to_screen_name': None}\",\"<a href=\"\"http://twitter.com\"\" rel=\"\"nofollow\"\">Twitter Web Client</a>\",RT @bpolitics: .@krollbondrating's Christopher Whalen says Clinton is the weakest Dem candidate in 50 years https://t.co/pLk7rvoRSn https:/…,1459294817758,False,\"{'utc_offset': 3600, 'profile_image_url_https': 'https://pbs.twimg.com/profile_images/700888033558720512/KexOIMN4_normal.jpg', 'time_zone': 'London', 'contributors_enabled': False, 'url': 'http://www.get-saved-today.webnode.com', 'id_str': '2290155049', 'profile_sidebar_fill_color': '000000', 'is_translator': False, 'friends_count': 502, 'default_profile_image': False, 'follow_request_sent': None, 'following': None, 'name': 'Born in Britain', 'profile_use_background_image': False, 'profile_background_image_url': 'http://abs.twimg.com/images/themes/theme1/bg.png', 'screen_name': 'greyman25', 'profile_sidebar_border_color': '000000', 'profile_link_color': '1B95E0', 'profile_background_tile': False, 'profile_image_url': 'http://pbs.twimg.com/profile_images/700888033558720512/KexOIMN4_normal.jpg', 'favourites_count': 3961, 'location': 'Yorkshire and The Humber', 'geo_enabled': False, 'description': 'Ex con, dry alcoholic, non smoker, love Jesus Christ &  Britain. Internet evangelist. Pro Israel.', 'lang': 'en', 'profile_text_color': '000000', 'default_profile': False, 'profile_banner_url': 'https://pbs.twimg.com/profile_banners/2290155049/1456586630', 'followers_count': 578, 'listed_count': 71, 'verified': False, 'protected': False, 'notifications': None, 'profile_background_color': '000000', 'profile_background_image_url_https': 'https://abs.twimg.com/images/themes/theme1/bg.png', 'created_at': 'Mon Jan 13 20:05:32 +0000 2014', 'id': 2290155049, 'statuses_count': 23034}\"\n",
      "\n"
     ]
    }
   ],
   "source": [
    "print(next(it)) # Prints second line"
   ]
  },
  {
   "cell_type": "markdown",
   "metadata": {},
   "source": [
    "## Using enumerate()\n",
    "\n",
    "- It is a function that takes any iterable as an argument and returns an enumerate object that contain pairs of original iterable values and index within the iterable (as tuples).\n",
    "- enumerate object is also an iterable that can be looped over.\n",
    "- enumerate() returns an enumerate object that produces a sequence of tuples, and each of the tuples is an index-value pair."
   ]
  },
  {
   "cell_type": "code",
   "execution_count": 69,
   "metadata": {},
   "outputs": [
    {
     "name": "stdout",
     "output_type": "stream",
     "text": [
      "<type 'list'>\n",
      "<type 'enumerate'>\n",
      "<type 'list'>\n",
      "[(0, 'hawkeye'), (1, 'iron man'), (2, 'thor'), (3, 'quicksilver')]\n"
     ]
    }
   ],
   "source": [
    "avengers = ['hawkeye', 'iron man', 'thor', 'quicksilver']\n",
    "\n",
    "e = enumerate(avengers)\n",
    "\n",
    "e_list = list(e)\n",
    "\n",
    "print(type(avengers))\n",
    "\n",
    "print(type(e))\n",
    "\n",
    "print(type(e_list))\n",
    "\n",
    "print(e_list) # prints the list of tuples"
   ]
  },
  {
   "cell_type": "code",
   "execution_count": 66,
   "metadata": {},
   "outputs": [
    {
     "name": "stdout",
     "output_type": "stream",
     "text": [
      "(0, 'hawkeye')\n",
      "(1, 'iron man')\n",
      "(2, 'thor')\n",
      "(3, 'quicksilver')\n"
     ]
    }
   ],
   "source": [
    "for index, value in enumerate(avengers):\n",
    "    print(index, value)"
   ]
  },
  {
   "cell_type": "code",
   "execution_count": 67,
   "metadata": {},
   "outputs": [
    {
     "name": "stdout",
     "output_type": "stream",
     "text": [
      "(10, 'hawkeye')\n",
      "(11, 'iron man')\n",
      "(12, 'thor')\n",
      "(13, 'quicksilver')\n"
     ]
    }
   ],
   "source": [
    "for index, value in enumerate(avengers, start=10):\n",
    "    print(index, value)"
   ]
  },
  {
   "cell_type": "markdown",
   "metadata": {},
   "source": [
    "#### Example 1: enumerate()"
   ]
  },
  {
   "cell_type": "code",
   "execution_count": 83,
   "metadata": {},
   "outputs": [
    {
     "name": "stdout",
     "output_type": "stream",
     "text": [
      "[(0, 'charles xavier'), (1, 'bobby drake'), (2, 'kurt wagner'), (3, 'max eisenhardt'), (4, 'kitty pride')]\n",
      "\n",
      "\n",
      "(0, 'charles xavier')\n",
      "(1, 'bobby drake')\n",
      "(2, 'kurt wagner')\n",
      "(3, 'max eisenhardt')\n",
      "(4, 'kitty pride')\n",
      "\n",
      "\n",
      "(1, 'charles xavier')\n",
      "(2, 'bobby drake')\n",
      "(3, 'kurt wagner')\n",
      "(4, 'max eisenhardt')\n",
      "(5, 'kitty pride')\n"
     ]
    }
   ],
   "source": [
    "# Create a list of strings: mutants\n",
    "mutants = ['charles xavier', \n",
    "            'bobby drake', \n",
    "            'kurt wagner', \n",
    "            'max eisenhardt', \n",
    "            'kitty pride']\n",
    "\n",
    "# Create a list of tuples: mutant_list\n",
    "mutant_list = list(enumerate(mutants))\n",
    "\n",
    "# Print the list of tuples\n",
    "print(mutant_list)\n",
    "\n",
    "print('\\n')\n",
    "\n",
    "# Unpack and print the tuple pairs\n",
    "for index1,value1 in mutant_list:\n",
    "    print(index1, value1)\n",
    "\n",
    "print('\\n')\n",
    "# Change the start index\n",
    "for index2,value2 in list(enumerate(mutants, start=1)):\n",
    "    print(index2, value2)"
   ]
  },
  {
   "cell_type": "markdown",
   "metadata": {},
   "source": [
    "## Using zip ()\n",
    "\n",
    "- It is a function that accepts an arbitrary number of iterables and returns an iterator of tuples (of stitched elements)\n",
    "- If you wanted to print the values of a zip object, you can convert it into a list and then print it. Printing just a zip object will not return the values unless you unpack it first"
   ]
  },
  {
   "cell_type": "code",
   "execution_count": 17,
   "metadata": {},
   "outputs": [
    {
     "name": "stdout",
     "output_type": "stream",
     "text": [
      "<class 'zip'>\n",
      "[('hawkeye', 'barton'), ('iron man', 'stark'), ('thor', 'odinson'), ('quicksilver', 'maximoff')]\n"
     ]
    }
   ],
   "source": [
    "avengers = ['hawkeye', 'iron man', 'thor', 'quicksilver']\n",
    "names = ['barton', 'stark', 'odinson', 'maximoff']\n",
    "\n",
    "z = zip(avengers, names)\n",
    "\n",
    "print(type(z)) # returns a zip object, not list as below (python 2 thing)\n",
    "\n",
    "z_list = list(z)\n",
    "\n",
    "print(z_list)"
   ]
  },
  {
   "cell_type": "code",
   "execution_count": 85,
   "metadata": {},
   "outputs": [
    {
     "name": "stdout",
     "output_type": "stream",
     "text": [
      "('hawkeye', 'barton')\n",
      "('iron man', 'stark')\n",
      "('thor', 'odinson')\n",
      "('quicksilver', 'maximoff')\n"
     ]
    }
   ],
   "source": [
    "# You can also unpack using for loop\n",
    "for z1, z2 in zip(avengers, names):\n",
    "    print(z1, z2)"
   ]
  },
  {
   "cell_type": "code",
   "execution_count": 77,
   "metadata": {},
   "outputs": [
    {
     "ename": "SyntaxError",
     "evalue": "invalid syntax (<ipython-input-77-be76e05d012b>, line 5)",
     "output_type": "error",
     "traceback": [
      "\u001b[1;36m  File \u001b[1;32m\"<ipython-input-77-be76e05d012b>\"\u001b[1;36m, line \u001b[1;32m5\u001b[0m\n\u001b[1;33m    print(*z) # not valid in python 2\u001b[0m\n\u001b[1;37m          ^\u001b[0m\n\u001b[1;31mSyntaxError\u001b[0m\u001b[1;31m:\u001b[0m invalid syntax\n"
     ]
    }
   ],
   "source": [
    "# You can also use the splat operator (*) to unzip the zip object \n",
    "\n",
    "z = zip(avengers, names)\n",
    "\n",
    "print(*z) # not valid in python 2"
   ]
  },
  {
   "cell_type": "markdown",
   "metadata": {},
   "source": [
    "#### Example 1: zip()"
   ]
  },
  {
   "cell_type": "code",
   "execution_count": 19,
   "metadata": {},
   "outputs": [
    {
     "name": "stdout",
     "output_type": "stream",
     "text": [
      "[('charles xavier', 'prof x', 'telepathy'), ('bobby drake', 'iceman', 'thermokinesis'), ('kurt wagner', 'nightcrawler', 'teleportation'), ('max eisenhardt', 'magneto', 'magnetokinesis'), ('kitty pride', 'shadowcat', 'intangibility')]\n",
      "<zip object at 0x000002B994DB08C8>\n",
      "charles xavier prof x telepathy\n",
      "bobby drake iceman thermokinesis\n",
      "kurt wagner nightcrawler teleportation\n",
      "max eisenhardt magneto magnetokinesis\n",
      "kitty pride shadowcat intangibility\n"
     ]
    }
   ],
   "source": [
    "mutants = ['charles xavier', 'bobby drake','kurt wagner','max eisenhardt','kitty pride']\n",
    "aliases = ['prof x', 'iceman', 'nightcrawler', 'magneto','shadowcat']\n",
    "powers = ['telepathy', 'thermokinesis', 'teleportation', 'magnetokinesis','intangibility']\n",
    "\n",
    "# Create a list of tuples: mutant_data\n",
    "mutant_data = list(zip(mutants, aliases, powers))\n",
    "\n",
    "# Print the list of tuples\n",
    "print(mutant_data)\n",
    "\n",
    "# Create a zip object using the three lists: mutant_zip\n",
    "mutant_zip = zip(mutants, aliases, powers)\n",
    "\n",
    "# Print the zip object\n",
    "print(mutant_zip) # wouldnt print in python 3 - it is a zip object\n",
    "\n",
    "# Unpack the zip object and print the tuple values\n",
    "for value1, value2, value3 in mutant_zip:\n",
    "    print(value1, value2, value3)"
   ]
  },
  {
   "cell_type": "markdown",
   "metadata": {},
   "source": [
    "#### Example 2: zip() - cant be done in python 2\n",
    "\n",
    "There is no unzip function for doing the reverse of what zip() does. We can, however, reverse what has been zipped together by using zip() with a little help from * which unpacks an iterable such as a list or a tuple into positional arguments in a function call."
   ]
  },
  {
   "cell_type": "code",
   "execution_count": 34,
   "metadata": {},
   "outputs": [
    {
     "name": "stdout",
     "output_type": "stream",
     "text": [
      "('charles xavier', 'telepathy') ('bobby drake', 'thermokinesis') ('kurt wagner', 'teleportation') ('max eisenhardt', 'magnetokinesis') ('kitty pride', 'intangibility')\n",
      "True\n",
      "False\n"
     ]
    }
   ],
   "source": [
    "# Create a zip object from mutants and powers: z1\n",
    "z1 = zip(mutants, powers)\n",
    "\n",
    "# Print the tuples in z1 by unpacking with *\n",
    "print(*z1)\n",
    "\n",
    "# Re-create a zip object from mutants and powers: z1\n",
    "z1 = zip(mutants, powers)\n",
    "\n",
    "# 'Unzip' the tuples in z1 by unpacking with * and zip(): result1, result2\n",
    "result1, result2 = zip(*z1)\n",
    "\n",
    "# Check if unpacked tuples are equivalent to original tuples - need to convert the tuple results to list\n",
    "print(list(result1)==mutants)\n",
    "print(list(result2) == powers)"
   ]
  },
  {
   "cell_type": "markdown",
   "metadata": {},
   "source": [
    "## Using iterators for big data"
   ]
  },
  {
   "cell_type": "markdown",
   "metadata": {},
   "source": [
    "### Loading data in chunks\n",
    "\n",
    "- There can be too much data to hold in memory\n",
    "- Solution: load data in chunks!\n",
    "- Pandas function: read_csv()\n",
    " - Specify the chunk: chunksize"
   ]
  },
  {
   "cell_type": "code",
   "execution_count": null,
   "metadata": {},
   "outputs": [],
   "source": [
    "# summing a column of numbers from a large data set\n",
    "import pandas as pd\n",
    "result = []\n",
    "\n",
    "for chunk in pd.read_csv('data.csv', chunksize=1000):\n",
    "    result.append(sum(chunk['x'])) # 'x' column consisting of numbers\n",
    "\n",
    "total = sum(result)\n",
    "\n",
    "print(total)\n",
    "4252532"
   ]
  },
  {
   "cell_type": "code",
   "execution_count": null,
   "metadata": {},
   "outputs": [],
   "source": [
    "# or we can do it this way:\n",
    "import pandas as pd\n",
    "total = 0\n",
    "for chunk in pd.read_csv('data.csv', chunksize=1000):\n",
    "    total += sum(chunk['x'])\n",
    "print(total)\n",
    "4252532"
   ]
  },
  {
   "cell_type": "markdown",
   "metadata": {},
   "source": [
    "#### Example 1: Processing and extracting large amounts of Twitter data"
   ]
  },
  {
   "cell_type": "code",
   "execution_count": 96,
   "metadata": {},
   "outputs": [
    {
     "name": "stdout",
     "output_type": "stream",
     "text": [
      "{'et': 1, 'en': 97, 'und': 2}\n"
     ]
    }
   ],
   "source": [
    "import pandas as pd\n",
    "\n",
    "# Initialize an empty dictionary: counts_dict = {}\n",
    "counts_dict = {}\n",
    "\n",
    "# Iterate over the file chunk by chunk\n",
    "for chunk in pd.read_csv('datasets/tweets.csv',chunksize=10):\n",
    "\n",
    "    # Iterate over the column in DataFrame\n",
    "    for entry in chunk['lang']:\n",
    "        if entry in counts_dict.keys():\n",
    "            counts_dict[entry] += 1\n",
    "        else:\n",
    "            counts_dict[entry] = 1\n",
    "\n",
    "# Print the populated dictionary\n",
    "print(counts_dict)"
   ]
  },
  {
   "cell_type": "code",
   "execution_count": 98,
   "metadata": {},
   "outputs": [
    {
     "name": "stdout",
     "output_type": "stream",
     "text": [
      "{'et': 1, 'en': 97, 'und': 2}\n"
     ]
    }
   ],
   "source": [
    "# Define count_entries()\n",
    "def count_entries(csv_file,c_size,colname):\n",
    "    \"\"\"Return a dictionary with counts of\n",
    "    occurrences as value for each key.\"\"\"\n",
    "    \n",
    "    # Initialize an empty dictionary: counts_dict\n",
    "    counts_dict = {}\n",
    "\n",
    "    # Iterate over the file chunk by chunk\n",
    "    for chunk in pd.read_csv(csv_file,chunksize=c_size):\n",
    "\n",
    "        # Iterate over the column in DataFrame\n",
    "        for entry in chunk[colname]:\n",
    "            if entry in counts_dict.keys():\n",
    "                counts_dict[entry] += 1\n",
    "            else:\n",
    "                counts_dict[entry] = 1\n",
    "\n",
    "    # Return counts_dict\n",
    "    return counts_dict\n",
    "\n",
    "# Call count_entries(): result_counts\n",
    "result_counts = count_entries('datasets/tweets.csv',3,'lang')\n",
    "\n",
    "# Print result_counts\n",
    "print(result_counts)\n"
   ]
  },
  {
   "cell_type": "code",
   "execution_count": null,
   "metadata": {},
   "outputs": [],
   "source": []
  }
 ],
 "metadata": {
  "kernelspec": {
   "display_name": "Python 3",
   "language": "python",
   "name": "python3"
  },
  "language_info": {
   "codemirror_mode": {
    "name": "ipython",
    "version": 3
   },
   "file_extension": ".py",
   "mimetype": "text/x-python",
   "name": "python",
   "nbconvert_exporter": "python",
   "pygments_lexer": "ipython3",
   "version": "3.7.6"
  }
 },
 "nbformat": 4,
 "nbformat_minor": 2
}
