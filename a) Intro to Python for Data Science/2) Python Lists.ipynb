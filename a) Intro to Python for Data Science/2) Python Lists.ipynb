{
 "cells": [
  {
   "cell_type": "markdown",
   "metadata": {},
   "source": [
    "# Python Lists\n",
    "Lists are the most versatile of Python's compound data types. A list contains items separated by commas and enclosed within **square brackets ([ ])**. To some extent, lists are similar to arrays in C. One difference between them is that all the items belonging to a list can be of different data type.\n",
    "\n",
    "* Lists name a collection of values and can be of any data type.\n",
    "* Lists are mutable sequences, typically used to store collections of homogeneous items (can be changed).\n",
    "* You can have list of lists as well.i.e. [[1, 2, 3], [4, 5, 7]]\n",
    "* The values stored in a list can be accessed using the slice operator ([ ] and [ : ]) with indexes starting at 0 in the beginning of the list and working their way to end -1. \n",
    "* The plus (+) sign is the list concatenation operator, and the asterisk (*) is the repetition operator. "
   ]
  },
  {
   "cell_type": "code",
   "execution_count": 2,
   "metadata": {},
   "outputs": [
    {
     "name": "stdout",
     "output_type": "stream",
     "text": [
      "['abcd', 786, 2.23, 'john', 70.2]\n",
      "abcd\n",
      "[786, 2.23]\n",
      "[2.23, 'john', 70.2]\n",
      "[123, 'john', 123, 'john']\n",
      "['abcd', 786, 2.23, 'john', 70.2, 123, 'john']\n"
     ]
    },
    {
     "data": {
      "text/plain": [
       "list"
      ]
     },
     "execution_count": 2,
     "metadata": {},
     "output_type": "execute_result"
    }
   ],
   "source": [
    "list = [ 'abcd', 786 , 2.23, 'john', 70.2 ]\n",
    "tinylist = [123, 'john']\n",
    "\n",
    "print list          # Prints complete list\n",
    "print list[0]       # Prints first element of the list\n",
    "print list[1:3]     # Prints elements starting from 2nd till 4th \n",
    "print list[2:]      # Prints elements starting from 3rd element\n",
    "print tinylist * 2  # Prints list two times\n",
    "print list + tinylist # Prints concatenated lists\n",
    "\n",
    "type (tinylist)"
   ]
  },
  {
   "cell_type": "markdown",
   "metadata": {},
   "source": [
    "## Slicing\n",
    "\n",
    "Python lists uses zer0-based indexing\n",
    "\n",
    "[start : end] # start is inclusive, end is exclusive"
   ]
  },
  {
   "cell_type": "code",
   "execution_count": 5,
   "metadata": {},
   "outputs": [
    {
     "name": "stdout",
     "output_type": "stream",
     "text": [
      "['abcd', 786, 2.23, 'john']\n",
      "['john', 70.2]\n"
     ]
    }
   ],
   "source": [
    "print list[:4] #Prints up to 4th element from the begining of list\n",
    "print list[3:] #Prints up to the last element from the 4th element"
   ]
  },
  {
   "cell_type": "code",
   "execution_count": 12,
   "metadata": {},
   "outputs": [
    {
     "name": "stdout",
     "output_type": "stream",
     "text": [
      "g\n",
      "['g', 'h']\n"
     ]
    }
   ],
   "source": [
    "x = [[\"a\", \"b\", \"c\"],\n",
    "     [\"d\", \"e\", \"f\"],\n",
    "     [\"g\", \"h\", \"i\"]]\n",
    "print x[2][0] #Prints the 3rd element (sublist) and the first element of that sublist\n",
    "print x[2][:2] #Prints the 3rd element (sublist) and the first two elements of that sublist"
   ]
  },
  {
   "cell_type": "markdown",
   "metadata": {},
   "source": [
    "## List Manipulation\n",
    "\n",
    "### 1. Changing list elements\n",
    "\n",
    "You can change list elements by assigning new values to the element:"
   ]
  },
  {
   "cell_type": "code",
   "execution_count": 14,
   "metadata": {},
   "outputs": [
    {
     "name": "stdout",
     "output_type": "stream",
     "text": [
      "['liz', 1.73, 'emma', 1.68, 'mom', 1.71, 'dad', 1.86]\n"
     ]
    }
   ],
   "source": [
    "fam = [\"liz\", 1.73, \"emma\", 1.68, \"mom\", 1.71, \"dad\", 1.89]\n",
    "fam[7] = 1.86 #Changing one element\n",
    "print fam"
   ]
  },
  {
   "cell_type": "code",
   "execution_count": 16,
   "metadata": {},
   "outputs": [
    {
     "name": "stdout",
     "output_type": "stream",
     "text": [
      "['lisa', 1.74, 'emma', 1.68, 'mom', 1.71, 'dad', 1.86]\n"
     ]
    }
   ],
   "source": [
    "fam[0:2] = [\"lisa\", 1.74] #Changing list slice at once\n",
    "print fam"
   ]
  },
  {
   "cell_type": "markdown",
   "metadata": {},
   "source": [
    "### 2. Adding and Removing list elements\n",
    "\n",
    "You can add list elements by adding a new list using + sign\n",
    "\n",
    "You can delete list elements by using **del** function"
   ]
  },
  {
   "cell_type": "code",
   "execution_count": 17,
   "metadata": {},
   "outputs": [
    {
     "name": "stdout",
     "output_type": "stream",
     "text": [
      "['lisa', 1.74, 'emma', 1.68, 'mom', 1.71, 'dad', 1.86, 'me', 1.79]\n"
     ]
    }
   ],
   "source": [
    "fam_ext = fam + [\"me\", 1.79]\n",
    "print fam_ext"
   ]
  },
  {
   "cell_type": "code",
   "execution_count": 18,
   "metadata": {},
   "outputs": [
    {
     "name": "stdout",
     "output_type": "stream",
     "text": [
      "['lisa', 1.74, 1.68, 'mom', 1.71, 'dad', 1.86, 'me', 1.79]\n"
     ]
    }
   ],
   "source": [
    "del(fam_ext[2]) #Removes the 3rd element\n",
    "print fam_ext"
   ]
  },
  {
   "cell_type": "markdown",
   "metadata": {},
   "source": [
    "### 3. Copying lists (variable referencing)\n",
    "\n",
    "When you assign a variable to a list, it actually refernces to the location of the list not the actual values\n",
    "\n",
    "So when you assign a second variable to the same one, you are basically creating a second reference. If you were to change an element in the second variable, the first variable also gets affected."
   ]
  },
  {
   "cell_type": "code",
   "execution_count": 30,
   "metadata": {},
   "outputs": [
    {
     "name": "stdout",
     "output_type": "stream",
     "text": [
      "['a', 'z', 'c']\n",
      "['a', 'z', 'c']\n"
     ]
    }
   ],
   "source": [
    "x = ['a', 'b', 'c']\n",
    "y = x\n",
    "y[1] = \"z\"\n",
    "print(y)\n",
    "print(x)"
   ]
  },
  {
   "cell_type": "markdown",
   "metadata": {},
   "source": [
    "If you want to truly copy the variable, you need to explicitly assign it to a list slice."
   ]
  },
  {
   "cell_type": "code",
   "execution_count": 33,
   "metadata": {},
   "outputs": [
    {
     "name": "stdout",
     "output_type": "stream",
     "text": [
      "['a', 'z', 'c']\n"
     ]
    }
   ],
   "source": [
    "y = x[:]\n",
    "print (y)"
   ]
  },
  {
   "cell_type": "markdown",
   "metadata": {},
   "source": [
    "### 4. Basic List Operations (https://www.tutorialspoint.com/python/python_lists.htm)\n",
    "Lists respond to the + and * operators much like strings; they mean concatenation and repetition here too, except that the result is a new list, not a string."
   ]
  },
  {
   "cell_type": "code",
   "execution_count": 35,
   "metadata": {},
   "outputs": [
    {
     "data": {
      "text/plain": [
       "3"
      ]
     },
     "execution_count": 35,
     "metadata": {},
     "output_type": "execute_result"
    }
   ],
   "source": [
    "len([1, 2, 3]) #len() function provides you with the length of the list"
   ]
  },
  {
   "cell_type": "code",
   "execution_count": 36,
   "metadata": {},
   "outputs": [
    {
     "data": {
      "text/plain": [
       "[1, 2, 3, 4, 5, 6]"
      ]
     },
     "execution_count": 36,
     "metadata": {},
     "output_type": "execute_result"
    }
   ],
   "source": [
    "[1, 2, 3] + [4, 5, 6] # + operator provides Concatenation"
   ]
  },
  {
   "cell_type": "code",
   "execution_count": 37,
   "metadata": {},
   "outputs": [
    {
     "data": {
      "text/plain": [
       "['Hi!', 'Hi!', 'Hi!', 'Hi!']"
      ]
     },
     "execution_count": 37,
     "metadata": {},
     "output_type": "execute_result"
    }
   ],
   "source": [
    "['Hi!'] * 4 # * operator provides Repetition"
   ]
  },
  {
   "cell_type": "code",
   "execution_count": 38,
   "metadata": {},
   "outputs": [
    {
     "data": {
      "text/plain": [
       "True"
      ]
     },
     "execution_count": 38,
     "metadata": {},
     "output_type": "execute_result"
    }
   ],
   "source": [
    "3 in [1, 2, 3] # in operator provides Membership"
   ]
  },
  {
   "cell_type": "code",
   "execution_count": 40,
   "metadata": {},
   "outputs": [
    {
     "name": "stdout",
     "output_type": "stream",
     "text": [
      "1\n",
      "2\n",
      "3\n"
     ]
    }
   ],
   "source": [
    "for x in [1, 2, 3]: # Iteration\n",
    "    print x "
   ]
  },
  {
   "cell_type": "markdown",
   "metadata": {},
   "source": [
    "### 4. append vs. extend. vs. insert\n",
    "<b>append</b> adds an element to a list, and <b>extend</b> concatenates the first list with another list (or another iterable, not necessarily a list.)"
   ]
  },
  {
   "cell_type": "code",
   "execution_count": 1,
   "metadata": {},
   "outputs": [
    {
     "name": "stdout",
     "output_type": "stream",
     "text": [
      "[1, 2, 3, [4, 5]]\n"
     ]
    }
   ],
   "source": [
    "# append: Appends object at the end.\n",
    "x = [1, 2, 3]\n",
    "\n",
    "x.append([4, 5])\n",
    "print (x)"
   ]
  },
  {
   "cell_type": "code",
   "execution_count": 2,
   "metadata": {},
   "outputs": [
    {
     "name": "stdout",
     "output_type": "stream",
     "text": [
      "[1, 2, 3, 4, 5]\n"
     ]
    }
   ],
   "source": [
    "# extend: Extends list by appending elements from the iterable.\n",
    "x = [1, 2, 3]\n",
    "\n",
    "x.extend([4, 5])\n",
    "print (x)"
   ]
  },
  {
   "cell_type": "code",
   "execution_count": 8,
   "metadata": {},
   "outputs": [
    {
     "name": "stdout",
     "output_type": "stream",
     "text": [
      "['a', 'b', 'mpilgrim', 'z', 'example', 'new']\n",
      "\n",
      "\n",
      "['a', 'b', 'new', 'mpilgrim', 'z', 'example', 'new']\n",
      "\n",
      "\n",
      "['a', 'b', 'new', 'mpilgrim', 'z', 'example', 'new', 'two', 'elements']\n"
     ]
    }
   ],
   "source": [
    "li = ['a', 'b', 'mpilgrim', 'z', 'example']\n",
    "li.append(\"new\")\n",
    "print(li)\n",
    "print('\\n')\n",
    "\n",
    "li.insert(2, \"new\")\n",
    "print(li)\n",
    "print('\\n')\n",
    "\n",
    "li.extend([\"two\", \"elements\"])\n",
    "print(li)"
   ]
  },
  {
   "cell_type": "markdown",
   "metadata": {},
   "source": [
    "### Built-in List Functions & Methods\n",
    "**Python includes the following list functions:**\n",
    "\n",
    "\n",
    "1\tcmp(list1, list2) --> Compares elements of both lists.\n",
    "\n",
    "2\tlen(list) --> Gives the total length of the list.\n",
    "\n",
    "3\tmax(list) --> Returns item from the list with max value.\n",
    "\n",
    "4\tmin(list) --> Returns item from the list with min value.\n",
    "\n",
    "5\tlist(seq) --> Converts a tuple into list.\n",
    "\n",
    "**Python includes following list methods:**\n",
    "\n",
    "1\tlist.append(obj) --> Appends object obj to list\n",
    "\n",
    "2\tlist.count(obj) --> Returns count of how many times obj occurs in list\n",
    "\n",
    "3\tlist.extend(seq) --> Appends the contents of seq to list\n",
    "\n",
    "4\tlist.index(obj) --> Returns the lowest index in list that obj appears\n",
    "\n",
    "5\tlist.insert(index, obj) --> Inserts object obj into list at offset index\n",
    "\n",
    "6\tlist.pop(obj=list[-1]) --> Removes and returns last object or obj from list\n",
    "\n",
    "7\tlist.remove(obj) --> Removes object obj from list\n",
    "\n",
    "8\tlist.reverse() --> Reverses objects of list in place\n",
    "\n",
    "9\tlist.sort([func]) -->Sorts objects of list, use compare func if given"
   ]
  },
  {
   "cell_type": "code",
   "execution_count": null,
   "metadata": {},
   "outputs": [],
   "source": []
  }
 ],
 "metadata": {
  "kernelspec": {
   "display_name": "Python 2",
   "language": "python",
   "name": "python2"
  },
  "language_info": {
   "codemirror_mode": {
    "name": "ipython",
    "version": 2
   },
   "file_extension": ".py",
   "mimetype": "text/x-python",
   "name": "python",
   "nbconvert_exporter": "python",
   "pygments_lexer": "ipython2",
   "version": "2.7.14"
  }
 },
 "nbformat": 4,
 "nbformat_minor": 2
}
