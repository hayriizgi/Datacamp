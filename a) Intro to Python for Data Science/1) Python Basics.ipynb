{
 "cells": [
  {
   "cell_type": "markdown",
   "metadata": {},
   "source": [
    "# Python Basics\n",
    "\n",
    "This notebook will just go through the basic topics in order:\n",
    "\n",
    "1. Calculations\n",
    "2. Variables\n",
    "3. Data types\n",
    "    * Numbers\n",
    "    * Strings\n",
    "\n"
   ]
  },
  {
   "cell_type": "markdown",
   "metadata": {},
   "source": [
    "### General Notes:\n",
    "* Python was developed by Guido Von Rossum.\n",
    "* Python packages are easily built. this is basicall code that can be shared with others to solve specific problems.\n",
    "* Variables make Python scripts reproducible."
   ]
  },
  {
   "cell_type": "markdown",
   "metadata": {},
   "source": [
    "### 1. Calculations:\n",
    "Calculator logic applies for Python for any operation. If you type in Shell, it will give the answer directly. If you type it in Script (.py), then you need to capsulate it in <b>print()</b> command.\n",
    "* To add comments to your Python script, you can use the <b>#</b> tag. \n",
    "* Exponentiation (******): This operator raises the number to its left to the power of the number to its right. For example 4 ** 2 will give 16.\n",
    "* Modulo (%): This operator returns the remainder of the division of the number to the left by the number on its right. For example 18 % 7 equals 4."
   ]
  },
  {
   "cell_type": "markdown",
   "metadata": {},
   "source": [
    "### 2. Variables:\n",
    "\n",
    "Variables are nothing but reserved memory locations to store values. This means that when you create a variable you reserve some space in memory. Based on the data type of a variable, the interpreter allocates memory and decides what can be stored in the reserved memory.\n",
    "\n",
    "* Variables are specific and case-sensitive.\n",
    "\n",
    "* = in Python means assignment, it doesn't test equality!\n",
    "\n",
    "* You can also delete the reference to a number object by using the **del** statement. The syntax of the del statement is *del var1[,var2[,var3[....,varN]]]]* You can delete a single object or multiple objects by using the del statement."
   ]
  },
  {
   "cell_type": "code",
   "execution_count": 2,
   "metadata": {},
   "outputs": [
    {
     "name": "stdout",
     "output_type": "stream",
     "text": [
      "100\n",
      "1000.0\n",
      "John\n"
     ]
    }
   ],
   "source": [
    "counter = 100          # An integer assignment\n",
    "miles   = 1000.0       # A floating point\n",
    "name    = \"John\"       # A string\n",
    "\n",
    "print counter\n",
    "print miles\n",
    "print name"
   ]
  },
  {
   "cell_type": "markdown",
   "metadata": {},
   "source": [
    "#### Multiple Variable Assignment: (https://www.tutorialspoint.com/python/python_variable_types.htm)"
   ]
  },
  {
   "cell_type": "code",
   "execution_count": 28,
   "metadata": {},
   "outputs": [
    {
     "name": "stdout",
     "output_type": "stream",
     "text": [
      "1 1 1\n",
      "1 2 john\n"
     ]
    }
   ],
   "source": [
    "# Python allows you to assign a single value to several variables simultaneously:\n",
    "\n",
    "a = b = c = 1 # Here, an integer object is created with the value 1, and all three variables are assigned to the same memory location. \n",
    "print a,b,c\n",
    "\n",
    "# You can also assign multiple objects to multiple variables:\n",
    "a,b,c = 1,2,\"john\"\n",
    "print a,b,c\n",
    "# Here, two integer objects with values 1 and 2 are assigned to variables a and b respectively, and \n",
    "# one string object with the value \"john\" is assigned to the variable c.\n",
    "\n"
   ]
  },
  {
   "cell_type": "markdown",
   "metadata": {},
   "source": [
    "### 3. Data Types:\n",
    "\n",
    "#### Built-in Function type():\n",
    "\n",
    "With one argument, returns the type of an object. The return value is a type object.\n",
    "\n",
    "type(1.02) # float (real number: integer part + fractional part)\n",
    "\n",
    "type(5) # integer (int)\n",
    "\n",
    "type('string') # string (str)\n",
    "\n",
    "type(True) # Boolean (bool)\n",
    "\n",
    "Python has five standard data types −\n",
    "\n",
    "* **Numbers**\n",
    "* **String**\n",
    "* **List**\n",
    "* **Tuple**\n",
    "* **Dictionary**"
   ]
  },
  {
   "cell_type": "markdown",
   "metadata": {},
   "source": [
    "#### Different data types will behave differently with operations:"
   ]
  },
  {
   "cell_type": "code",
   "execution_count": 29,
   "metadata": {},
   "outputs": [
    {
     "data": {
      "text/plain": [
       "5"
      ]
     },
     "execution_count": 29,
     "metadata": {},
     "output_type": "execute_result"
    }
   ],
   "source": [
    "2 + 3"
   ]
  },
  {
   "cell_type": "code",
   "execution_count": 18,
   "metadata": {},
   "outputs": [
    {
     "data": {
      "text/plain": [
       "'abcde'"
      ]
     },
     "execution_count": 18,
     "metadata": {},
     "output_type": "execute_result"
    }
   ],
   "source": [
    "'ab' + 'cde'"
   ]
  },
  {
   "cell_type": "code",
   "execution_count": 24,
   "metadata": {},
   "outputs": [
    {
     "data": {
      "text/plain": [
       "'ababab'"
      ]
     },
     "execution_count": 24,
     "metadata": {},
     "output_type": "execute_result"
    }
   ],
   "source": [
    "'ab' * 3"
   ]
  },
  {
   "cell_type": "markdown",
   "metadata": {},
   "source": [
    "#### Type Conversion:\n",
    "\n",
    "You can convert the types of your variables. using the following built-in functions: \n",
    "\n",
    "str(), int(), float() and bool() will help you convert Python values into any type."
   ]
  }
 ],
 "metadata": {
  "kernelspec": {
   "display_name": "Python 2",
   "language": "python",
   "name": "python2"
  },
  "language_info": {
   "codemirror_mode": {
    "name": "ipython",
    "version": 2
   },
   "file_extension": ".py",
   "mimetype": "text/x-python",
   "name": "python",
   "nbconvert_exporter": "python",
   "pygments_lexer": "ipython2",
   "version": "2.7.14"
  }
 },
 "nbformat": 4,
 "nbformat_minor": 2
}
