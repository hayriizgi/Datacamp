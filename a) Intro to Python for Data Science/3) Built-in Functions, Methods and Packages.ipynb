{
 "cells": [
  {
   "cell_type": "markdown",
   "metadata": {},
   "source": [
    "# Functions\n",
    "Function is a piece of reusable code aimed at solving a particular task."
   ]
  },
  {
   "cell_type": "markdown",
   "metadata": {},
   "source": [
    "### <span style=\"color:red\">Built-in List Functions</span>\n",
    "\n",
    "#### max() and min() built-in functions\n",
    "max(list) --> Returns item from the list with max value.\n",
    "\n",
    "min(list) --> Returns item from the list with min value.\n"
   ]
  },
  {
   "cell_type": "code",
   "execution_count": 3,
   "metadata": {},
   "outputs": [
    {
     "name": "stdout",
     "output_type": "stream",
     "text": [
      "1.89\n",
      "1.68\n"
     ]
    }
   ],
   "source": [
    "fam = [1.73, 1.68, 1.71, 1.89] \n",
    "\n",
    "print (max(fam))\n",
    "print (min(fam))"
   ]
  },
  {
   "cell_type": "markdown",
   "metadata": {},
   "source": [
    "#### round() built-in function\n",
    "number[, ndigits] --> Round a number to a given precision in decimal digits (default 0 digits).This always returns a floating point number.  Precision may be negative. [ ] means optional argument."
   ]
  },
  {
   "cell_type": "code",
   "execution_count": 8,
   "metadata": {},
   "outputs": [
    {
     "name": "stdout",
     "output_type": "stream",
     "text": [
      "1.7\n",
      "2.0\n"
     ]
    }
   ],
   "source": [
    "print round(1.68,1)\n",
    "print round(1.68)"
   ]
  },
  {
   "cell_type": "markdown",
   "metadata": {},
   "source": [
    "#### help() built-in function or ?object\n",
    "class _Helper(__builtin__.object) --> Provides help on built in objects\n",
    "\n",
    "?object --> ?round, ?max, etc."
   ]
  },
  {
   "cell_type": "markdown",
   "metadata": {},
   "source": [
    "help (round)"
   ]
  },
  {
   "cell_type": "markdown",
   "metadata": {},
   "source": [
    "#### complex() built-in function\n",
    "complex(real[, imag]) --> Create a complex number from a real part and an optional imaginary part. This is equivalent to (real + imag*1j) where imag defaults to 0."
   ]
  },
  {
   "cell_type": "code",
   "execution_count": 17,
   "metadata": {},
   "outputs": [
    {
     "name": "stdout",
     "output_type": "stream",
     "text": [
      "(1.2+3j)\n"
     ]
    }
   ],
   "source": [
    "print(complex(1.2,3))"
   ]
  },
  {
   "cell_type": "markdown",
   "metadata": {},
   "source": [
    "#### sorted (iterable, key=None, reverse=False)\n",
    "    Return a new list containing all items from the iterable in ascending order.\n",
    "    \n",
    "    A custom key function can be supplied to customise the sort order, and the\n",
    "    reverse flag can be set to request the result in descending order.\n",
    "    \n",
    "    key=None means that if you don't specify the key argument, it will be None. reverse=False means that if you don't specify the reverse argument, it will be False.\n",
    "\n",
    "**Side Note: *iterable*:**\n",
    "An object capable of returning its members one at a time. Examples of iterables include all sequence types (such as list, str, and tuple) and some non-sequence types like dict and file and objects of any classes you define with an __iter__() or __getitem__() method. Iterables can be used in a for loop and in many other places where a sequence is needed (zip(), map(), …). When an iterable object is passed as an argument to the built-in function iter(), it returns an iterator for the object. This iterator is good for one pass over the set of values. When using iterables, it is usually not necessary to call iter() or deal with iterator objects yourself. The for statement does that automatically for you, creating a temporary unnamed variable to hold the iterator for the duration of the loop"
   ]
  },
  {
   "cell_type": "code",
   "execution_count": 12,
   "metadata": {},
   "outputs": [
    {
     "name": "stdout",
     "output_type": "stream",
     "text": [
      "[1.89, 1.73, 1.71, 1.68]\n"
     ]
    }
   ],
   "source": [
    "fam_sorted = sorted(fam, reverse=True)\n",
    "print(fam_sorted)"
   ]
  },
  {
   "cell_type": "markdown",
   "metadata": {},
   "source": [
    "### <span style=\"color:red\">Methods</span>\n",
    "Methods are functions that can be applied to (belong to) objects.\n",
    "\n",
    "#### Examples of Methods\n",
    "Each object type has specific methods that could be applied to them:\n",
    "\n",
    "str --> capitalize(), upper(), lower(), replace(), index()\n",
    "\n",
    "float --> bit_length(), conjugate()\n",
    "\n",
    "list --> index(), count(), append(), remove(), extend(), reverse()"
   ]
  },
  {
   "cell_type": "code",
   "execution_count": 53,
   "metadata": {},
   "outputs": [
    {
     "name": "stdout",
     "output_type": "stream",
     "text": [
      "Liz\n",
      "LIZ\n",
      "Lisa\n",
      "2\n"
     ]
    }
   ],
   "source": [
    "# str object --> capitalize(), replace(), index()\n",
    "\n",
    "sister = 'Liz'\n",
    "print (sister.capitalize()) # Capitalizes first letter of the the string\n",
    "\n",
    "print (sister.upper()) # Capitalizes the string\n",
    "\n",
    "print (sister.replace('z','sa')) # Replaces the element in a string with another\n",
    "\n",
    "print (sister.index('z')) # returns the index of the letter in the string"
   ]
  },
  {
   "cell_type": "code",
   "execution_count": 90,
   "metadata": {},
   "outputs": [
    {
     "name": "stdout",
     "output_type": "stream",
     "text": [
      "1\n",
      "0\n"
     ]
    }
   ],
   "source": [
    "# list object --> index(), count(), append(), remove(), extend(), reverse(), insert()\n",
    "\n",
    "print (fam_sorted.index(1.73)) # returns the index of an element in the list\n",
    "print (fam_sorted.count(1)) # counts the number of time the argument appears in the list"
   ]
  },
  {
   "cell_type": "code",
   "execution_count": 92,
   "metadata": {},
   "outputs": [
    {
     "name": "stdout",
     "output_type": "stream",
     "text": [
      "[1.73, 1.68, 1.71, 1.89, 1.82]\n"
     ]
    }
   ],
   "source": [
    "fam = [1.73, 1.68, 1.71, 1.89] \n",
    "fam.append(1.82) # appends a passed obj into the existing list --adds an element \n",
    "print (fam) "
   ]
  },
  {
   "cell_type": "code",
   "execution_count": 93,
   "metadata": {},
   "outputs": [
    {
     "name": "stdout",
     "output_type": "stream",
     "text": [
      "[1.73, 1.68, 1.71, 1.89, 1.82, 1.83, 1.84]\n"
     ]
    }
   ],
   "source": [
    "fam.extend([1.83,1.84]) # appends the contents of seq to list. The argument has to be iterable object (difference vs. append())\n",
    "print (fam) "
   ]
  },
  {
   "cell_type": "code",
   "execution_count": 95,
   "metadata": {},
   "outputs": [
    {
     "name": "stdout",
     "output_type": "stream",
     "text": [
      "[1.73, 1.68, 1.71, 1.89, 1.82, 1.83, 1.84, [1.83, 1.84]]\n",
      "[1.73, 1.68, 1.71, 1.89, 1.82, 1.83, 1.84]\n"
     ]
    }
   ],
   "source": [
    "fam.append([1.83,1.84]) # appends the sub-list to the list as an element\n",
    "print (fam) \n",
    "fam.remove([1.83,1.84]) # removes the first element of a list that matches the input\n",
    "print (fam) "
   ]
  },
  {
   "cell_type": "code",
   "execution_count": 96,
   "metadata": {},
   "outputs": [
    {
     "name": "stdout",
     "output_type": "stream",
     "text": [
      "[1.73, 1.68, 1.71, 1.89, 1.82, 1.83, 1.9, 1.84]\n"
     ]
    }
   ],
   "source": [
    "fam.insert(6,1.90) # inserts object obj into a list at offset index.--insert(index,obj) --insert(len(list),obj) = = append(obj)\n",
    "print (fam) "
   ]
  },
  {
   "cell_type": "code",
   "execution_count": 97,
   "metadata": {},
   "outputs": [
    {
     "name": "stdout",
     "output_type": "stream",
     "text": [
      "[1.84, 1.9, 1.83, 1.82, 1.89, 1.71, 1.68, 1.73]\n"
     ]
    }
   ],
   "source": [
    "fam.reverse()  # reverses the order of the elements in the list\n",
    "print (fam) "
   ]
  },
  {
   "cell_type": "markdown",
   "metadata": {},
   "source": [
    "### <span style=\"color:red\">Packages</span>\n",
    "Packages are directories of Python Scripts and each script is a Module\n",
    "\n",
    "- Modules contain specific functions, methods, types\n",
    "- Thousands of packages available:\n",
    " - Numpy (arrays)\n",
    " - Pandas (data frames)\n",
    " - Matplotlib (data visualizations)\n",
    " - Scikit-learn (machine learning\n",
    "\n",
    "#### Install packages: \n",
    "- http://pip.readthedocs.org/en/stable/installing/\n",
    "- Download get-pip.py\n",
    "- Terminal:\n",
    " - python3 get-pip.py\n",
    " - pip3 install numpy"
   ]
  },
  {
   "cell_type": "code",
   "execution_count": 84,
   "metadata": {},
   "outputs": [
    {
     "data": {
      "text/plain": [
       "array([1, 2, 3])"
      ]
     },
     "execution_count": 84,
     "metadata": {},
     "output_type": "execute_result"
    }
   ],
   "source": [
    "import numpy as np #imports the numpy package --> np is an alias for the package\n",
    "np.array([1, 2, 3])"
   ]
  },
  {
   "cell_type": "code",
   "execution_count": 85,
   "metadata": {},
   "outputs": [
    {
     "data": {
      "text/plain": [
       "array([1, 2, 3])"
      ]
     },
     "execution_count": 85,
     "metadata": {},
     "output_type": "execute_result"
    }
   ],
   "source": [
    "from numpy import array #if you need to use specific function from a package, just import that function\n",
    "array([1, 2, 3]) # after that, you don't need to refer to the package anymore and can use the function directly"
   ]
  },
  {
   "cell_type": "code",
   "execution_count": 88,
   "metadata": {},
   "outputs": [
    {
     "name": "stdout",
     "output_type": "stream",
     "text": [
      "Circumference: 2.70176968209\n",
      "Area: 0.580880481649\n"
     ]
    }
   ],
   "source": [
    "# Definition of radius\n",
    "r = 0.43\n",
    "\n",
    "# Import the math package\n",
    "import math\n",
    "\n",
    "# Calculate C\n",
    "C = 2*math.pi*r\n",
    "\n",
    "# Calculate A\n",
    "A = math.pi*r*r\n",
    "\n",
    "# Build printout\n",
    "print(\"Circumference: \" + str(C))\n",
    "print(\"Area: \" + str(A))"
   ]
  },
  {
   "cell_type": "code",
   "execution_count": 89,
   "metadata": {},
   "outputs": [
    {
     "name": "stdout",
     "output_type": "stream",
     "text": [
      "40317.1057211\n"
     ]
    }
   ],
   "source": [
    "# Definition of radius\n",
    "r = 192500\n",
    "\n",
    "# Import radians function of math package\n",
    "from math import radians\n",
    "\n",
    "# Travel distance of Moon over 12 degrees. Store in dist.\n",
    "# radians() function converts angle in degrees to radians\n",
    "dist = r*radians(12)\n",
    "\n",
    "# Print out dist\n",
    "print(dist)"
   ]
  },
  {
   "cell_type": "code",
   "execution_count": null,
   "metadata": {},
   "outputs": [],
   "source": []
  }
 ],
 "metadata": {
  "kernelspec": {
   "display_name": "Python 2",
   "language": "python",
   "name": "python2"
  },
  "language_info": {
   "codemirror_mode": {
    "name": "ipython",
    "version": 2
   },
   "file_extension": ".py",
   "mimetype": "text/x-python",
   "name": "python",
   "nbconvert_exporter": "python",
   "pygments_lexer": "ipython2",
   "version": "2.7.14"
  }
 },
 "nbformat": 4,
 "nbformat_minor": 2
}
